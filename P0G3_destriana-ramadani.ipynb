{
 "cells": [
  {
   "cell_type": "markdown",
   "metadata": {},
   "source": [
    "Project ini bertujuan untuk melakukan analisis penjualan produk seblak dari informasi produk serupa yang ada di website e-commerce Tokopedia sebagai pertimbangan pengambilan keputusan.\n"
   ]
  },
  {
   "cell_type": "markdown",
   "metadata": {},
   "source": [
    "# Case\n",
    "Saya ingin meningkatkan pendapatan dengan berjualan di Tokopedia, namun terdapat keterbatasan modal. Oleh karena itu, Saya memilih skema dropship dan fokus pada promosi. Mengingat tren viral seblak, Saya ingin menganalisis minat dan pembelian masyarakat terhadap produk seblak.\n",
    "\n",
    "Saya menggunakan data produk seblak di Tokopedia yang kemudian akan dilakukan proses analisis untuk mendapatkan insight apakah penjualan produk seblak memiliki prospek yang bagus kedepannya."
   ]
  },
  {
   "cell_type": "markdown",
   "metadata": {},
   "source": [
    "## Web Scraping\n",
    "Pada tahap ini dilakukan pengambilan data produk seblak dari website Tokopedia. Data yang diambil berupa 'nama produk', 'harga produk', 'penjual', 'kota toko', 'banyaknya terjual', dan 'rating toko'. Pengambilan data dilakukan pada 10 halaman website tersebut."
   ]
  },
  {
   "cell_type": "code",
   "execution_count": 235,
   "metadata": {},
   "outputs": [],
   "source": [
    "# import seluruh module yang dibutuhkan\n",
    "from selenium import webdriver\n",
    "from bs4 import BeautifulSoup\n",
    "from selenium.webdriver.chrome.service import Service\n",
    "from webdriver_manager.chrome import ChromeDriverManager\n",
    "from scipy import stats\n",
    "import matplotlib.pyplot as plt\n",
    "import pandas as pd\n",
    "import numpy as np\n",
    "import time\n"
   ]
  },
  {
   "cell_type": "markdown",
   "metadata": {},
   "source": [
    "Proses scraping data menggunakan Selenium dan BeautifulSoup\n"
   ]
  },
  {
   "cell_type": "code",
   "execution_count": 236,
   "metadata": {},
   "outputs": [
    {
     "data": {
      "text/html": [
       "<div>\n",
       "<style scoped>\n",
       "    .dataframe tbody tr th:only-of-type {\n",
       "        vertical-align: middle;\n",
       "    }\n",
       "\n",
       "    .dataframe tbody tr th {\n",
       "        vertical-align: top;\n",
       "    }\n",
       "\n",
       "    .dataframe thead th {\n",
       "        text-align: right;\n",
       "    }\n",
       "</style>\n",
       "<table border=\"1\" class=\"dataframe\">\n",
       "  <thead>\n",
       "    <tr style=\"text-align: right;\">\n",
       "      <th></th>\n",
       "      <th>nama_produk</th>\n",
       "      <th>harga_produk</th>\n",
       "      <th>penjual</th>\n",
       "      <th>kota_toko</th>\n",
       "      <th>banyaknya_terjual</th>\n",
       "      <th>rating_produk</th>\n",
       "    </tr>\n",
       "  </thead>\n",
       "  <tbody>\n",
       "    <tr>\n",
       "      <th>0</th>\n",
       "      <td>Geli Food Seblak Ceker Tanpa Tulang Super Peda...</td>\n",
       "      <td>Rp24.000</td>\n",
       "      <td>Lidigeli</td>\n",
       "      <td>Kab. Garut</td>\n",
       "      <td>70+ terjual</td>\n",
       "      <td>5.0</td>\n",
       "    </tr>\n",
       "    <tr>\n",
       "      <th>1</th>\n",
       "      <td>Seblak Rafael, Seblak Coet Instan Halal</td>\n",
       "      <td>Rp25.000</td>\n",
       "      <td>Brother Meat Shop</td>\n",
       "      <td>Depok</td>\n",
       "      <td>250+ terjual</td>\n",
       "      <td>4.9</td>\n",
       "    </tr>\n",
       "    <tr>\n",
       "      <th>2</th>\n",
       "      <td>Kerupuk Seblak Pedas Krupuk Pelangi Pedas Sebl...</td>\n",
       "      <td>Rp15.500</td>\n",
       "      <td>toko bemo</td>\n",
       "      <td>Jakarta Timur</td>\n",
       "      <td>500+ terjual</td>\n",
       "      <td>4.9</td>\n",
       "    </tr>\n",
       "    <tr>\n",
       "      <th>3</th>\n",
       "      <td>kerupuk seblak 1kg</td>\n",
       "      <td>Rp11.500</td>\n",
       "      <td>zyvasnack</td>\n",
       "      <td>Kab. Purworejo</td>\n",
       "      <td>4 terjual</td>\n",
       "      <td>NaN</td>\n",
       "    </tr>\n",
       "    <tr>\n",
       "      <th>4</th>\n",
       "      <td>(250 GR) KERUPUK SEBLAK MENTAH / KERUPUK BAWANG</td>\n",
       "      <td>Rp8.500</td>\n",
       "      <td>Rejeki Makmur Jaya.</td>\n",
       "      <td>Kab. Bantul</td>\n",
       "      <td>NaN</td>\n",
       "      <td>NaN</td>\n",
       "    </tr>\n",
       "    <tr>\n",
       "      <th>...</th>\n",
       "      <td>...</td>\n",
       "      <td>...</td>\n",
       "      <td>...</td>\n",
       "      <td>...</td>\n",
       "      <td>...</td>\n",
       "      <td>...</td>\n",
       "    </tr>\n",
       "    <tr>\n",
       "      <th>838</th>\n",
       "      <td>Sebring (Seblak Kering) Original</td>\n",
       "      <td>Rp19.900</td>\n",
       "      <td>DapurIbuKita</td>\n",
       "      <td>Jakarta Barat</td>\n",
       "      <td>NaN</td>\n",
       "      <td>NaN</td>\n",
       "    </tr>\n",
       "    <tr>\n",
       "      <th>839</th>\n",
       "      <td>seblak kencur / okesnack</td>\n",
       "      <td>Rp10.000</td>\n",
       "      <td>oke snack</td>\n",
       "      <td>Jakarta Selatan</td>\n",
       "      <td>750+ terjual</td>\n",
       "      <td>4.9</td>\n",
       "    </tr>\n",
       "    <tr>\n",
       "      <th>840</th>\n",
       "      <td>Siomay Kerikil Kuncup / Siomay Mini / SIomay S...</td>\n",
       "      <td>Rp8.000</td>\n",
       "      <td>Aeeshastore</td>\n",
       "      <td>Bandung</td>\n",
       "      <td>100+ terjual</td>\n",
       "      <td>4.6</td>\n",
       "    </tr>\n",
       "    <tr>\n",
       "      <th>841</th>\n",
       "      <td>Kylafood Seblak karuhun</td>\n",
       "      <td>Rp12.825</td>\n",
       "      <td>kylafood</td>\n",
       "      <td>Bandung</td>\n",
       "      <td>4rb+ terjual</td>\n",
       "      <td>4.8</td>\n",
       "    </tr>\n",
       "    <tr>\n",
       "      <th>842</th>\n",
       "      <td>cemilan SEBLAK KARI PEDAS 65gr</td>\n",
       "      <td>Rp4.500</td>\n",
       "      <td>oke snack</td>\n",
       "      <td>Jakarta Selatan</td>\n",
       "      <td>100+ terjual</td>\n",
       "      <td>4.8</td>\n",
       "    </tr>\n",
       "  </tbody>\n",
       "</table>\n",
       "<p>843 rows × 6 columns</p>\n",
       "</div>"
      ],
      "text/plain": [
       "                                           nama_produk harga_produk  \\\n",
       "0    Geli Food Seblak Ceker Tanpa Tulang Super Peda...     Rp24.000   \n",
       "1              Seblak Rafael, Seblak Coet Instan Halal     Rp25.000   \n",
       "2    Kerupuk Seblak Pedas Krupuk Pelangi Pedas Sebl...     Rp15.500   \n",
       "3                                   kerupuk seblak 1kg     Rp11.500   \n",
       "4      (250 GR) KERUPUK SEBLAK MENTAH / KERUPUK BAWANG      Rp8.500   \n",
       "..                                                 ...          ...   \n",
       "838                   Sebring (Seblak Kering) Original     Rp19.900   \n",
       "839                           seblak kencur / okesnack     Rp10.000   \n",
       "840  Siomay Kerikil Kuncup / Siomay Mini / SIomay S...      Rp8.000   \n",
       "841                            Kylafood Seblak karuhun     Rp12.825   \n",
       "842                     cemilan SEBLAK KARI PEDAS 65gr      Rp4.500   \n",
       "\n",
       "                 penjual        kota_toko banyaknya_terjual rating_produk  \n",
       "0               Lidigeli       Kab. Garut       70+ terjual           5.0  \n",
       "1      Brother Meat Shop            Depok      250+ terjual           4.9  \n",
       "2              toko bemo    Jakarta Timur      500+ terjual           4.9  \n",
       "3              zyvasnack   Kab. Purworejo         4 terjual           NaN  \n",
       "4    Rejeki Makmur Jaya.      Kab. Bantul               NaN           NaN  \n",
       "..                   ...              ...               ...           ...  \n",
       "838         DapurIbuKita    Jakarta Barat               NaN           NaN  \n",
       "839            oke snack  Jakarta Selatan      750+ terjual           4.9  \n",
       "840          Aeeshastore          Bandung      100+ terjual           4.6  \n",
       "841             kylafood          Bandung      4rb+ terjual           4.8  \n",
       "842            oke snack  Jakarta Selatan      100+ terjual           4.8  \n",
       "\n",
       "[843 rows x 6 columns]"
      ]
     },
     "execution_count": 236,
     "metadata": {},
     "output_type": "execute_result"
    }
   ],
   "source": [
    "# Inisialisasi driver Chrome\n",
    "driver = webdriver.Chrome()\n",
    "# Jumlah halaman yang akan di-scrape\n",
    "pages = 10\n",
    "\n",
    "# list untuk menyimpan sementara hasil scraping masing-masing data\n",
    "result_nama_produk = []\n",
    "result_harga_produk = []\n",
    "result_penjual = []\n",
    "result_kota_toko = []\n",
    "result_banyaknya_terjual = []\n",
    "result_rating_produk = []\n",
    "\n",
    "# Iterasi untuk mengambil data dari masing-masing halaman website\n",
    "for page in range(1,pages+1):\n",
    "    # Membuat URL berdasarkan nomor halaman\n",
    "    link_url = f'https://www.tokopedia.com/search?navsource=&page={page}&q=seblak&srp_component_id=02.01.00.00&srp_page_id=&srp_page_title=&st='\n",
    "    driver.get(link_url)\n",
    "    \n",
    "    # Iterasi untuk melakukan automatis scroll pada halaman website\n",
    "    for i in range(8):\n",
    "        start = i * 1080\n",
    "        add = 1080\n",
    "        driver.execute_script(f\"window.scrollTo({add}, {start});\")\n",
    "        time.sleep(5)\n",
    "        \n",
    "    # Mendapatkan HTML halaman dan parsing dengan BeautifulSoup\n",
    "    html = driver.page_source\n",
    "    soup = BeautifulSoup(html, \"html.parser\")\n",
    "\n",
    "    # Mencari elemen-elemen produk pada halaman\n",
    "    contents = soup.find_all('div', attrs={'class':'css-llwpbs'})\n",
    "    \n",
    "    # Iterasi untuk mengambil informasi produk dari setiap elemen\n",
    "    for content in contents:\n",
    "        # Mengambil nama produk\n",
    "        nama_produk = content.find('div', {'class':'prd_link-product-name css-3um8ox','data-testid':'spnSRPProdName'})\n",
    "        if nama_produk is None:\n",
    "            result_nama_produk.append(np.nan)\n",
    "        else:\n",
    "            result_nama_produk.append(nama_produk.getText())\n",
    "        \n",
    "        # Mengambil harga produk  \n",
    "        harga_produk = content.find('div', {'class':'prd_link-product-price css-h66vau','data-testid':'spnSRPProdPrice'})\n",
    "        if harga_produk is None:\n",
    "            result_harga_produk.append(np.nan)\n",
    "        else:\n",
    "            result_harga_produk.append(harga_produk.getText())\n",
    "        \n",
    "        # Mengambil nama penjual   \n",
    "        penjual = content.find('span', {'class': 'prd_link-shop-name css-1kdc32b flip'})\n",
    "        if penjual is None:\n",
    "            result_penjual.append(np.nan)\n",
    "        else:\n",
    "            result_penjual.append(penjual.getText())\n",
    "        \n",
    "        # Mengambil kota toko \n",
    "        kota_toko = content.find('span', {'class':'prd_link-shop-loc css-1kdc32b flip', 'data-testid':'spnSRPProdTabShopLoc'})\n",
    "        if kota_toko is None:\n",
    "            result_kota_toko.append(np.nan)\n",
    "        else:\n",
    "            result_kota_toko.append(kota_toko.getText())\n",
    "        \n",
    "        # Mengambil banyaknya produk terjual   \n",
    "        banyaknya_terjual = content.find('span', {'class': 'prd_label-integrity css-1sgek4h'})\n",
    "        if banyaknya_terjual is None:\n",
    "            result_banyaknya_terjual.append(np.nan)\n",
    "        else:\n",
    "            result_banyaknya_terjual.append(banyaknya_terjual.getText())\n",
    "        \n",
    "        # Mengambil rating produk   \n",
    "        rating_produk = content.find('span', {'class': 'prd_rating-average-text css-t70v7i'})\n",
    "        if rating_produk is None:\n",
    "            result_rating_produk.append(np.nan)\n",
    "        else:\n",
    "            result_rating_produk.append(rating_produk.getText())\n",
    "\n",
    "# membuat dataframe dari gabungan list\n",
    "df = pd.DataFrame()\n",
    "\n",
    "df['nama_produk'] = result_nama_produk\n",
    "df['harga_produk'] = result_harga_produk\n",
    "df['penjual'] = result_penjual\n",
    "df['kota_toko'] = result_kota_toko\n",
    "df['banyaknya_terjual'] = result_banyaknya_terjual\n",
    "df['rating_produk'] = result_rating_produk\n",
    "\n",
    "df\n"
   ]
  },
  {
   "cell_type": "markdown",
   "metadata": {},
   "source": [
    "## Data Preparation\n",
    "Pada tahap ini dilakukan pembersihan, mengatur, dan menformat data agar data sesuai dan mudah dianalisis"
   ]
  },
  {
   "cell_type": "markdown",
   "metadata": {},
   "source": [
    "### Eksplorasi Data"
   ]
  },
  {
   "cell_type": "code",
   "execution_count": 237,
   "metadata": {},
   "outputs": [
    {
     "data": {
      "text/html": [
       "<div>\n",
       "<style scoped>\n",
       "    .dataframe tbody tr th:only-of-type {\n",
       "        vertical-align: middle;\n",
       "    }\n",
       "\n",
       "    .dataframe tbody tr th {\n",
       "        vertical-align: top;\n",
       "    }\n",
       "\n",
       "    .dataframe thead th {\n",
       "        text-align: right;\n",
       "    }\n",
       "</style>\n",
       "<table border=\"1\" class=\"dataframe\">\n",
       "  <thead>\n",
       "    <tr style=\"text-align: right;\">\n",
       "      <th></th>\n",
       "      <th>nama_produk</th>\n",
       "      <th>harga_produk</th>\n",
       "      <th>penjual</th>\n",
       "      <th>kota_toko</th>\n",
       "      <th>banyaknya_terjual</th>\n",
       "      <th>rating_produk</th>\n",
       "    </tr>\n",
       "  </thead>\n",
       "  <tbody>\n",
       "    <tr>\n",
       "      <th>0</th>\n",
       "      <td>Geli Food Seblak Ceker Tanpa Tulang Super Peda...</td>\n",
       "      <td>Rp24.000</td>\n",
       "      <td>Lidigeli</td>\n",
       "      <td>Kab. Garut</td>\n",
       "      <td>70+ terjual</td>\n",
       "      <td>5.0</td>\n",
       "    </tr>\n",
       "    <tr>\n",
       "      <th>1</th>\n",
       "      <td>Seblak Rafael, Seblak Coet Instan Halal</td>\n",
       "      <td>Rp25.000</td>\n",
       "      <td>Brother Meat Shop</td>\n",
       "      <td>Depok</td>\n",
       "      <td>250+ terjual</td>\n",
       "      <td>4.9</td>\n",
       "    </tr>\n",
       "    <tr>\n",
       "      <th>2</th>\n",
       "      <td>Kerupuk Seblak Pedas Krupuk Pelangi Pedas Sebl...</td>\n",
       "      <td>Rp15.500</td>\n",
       "      <td>toko bemo</td>\n",
       "      <td>Jakarta Timur</td>\n",
       "      <td>500+ terjual</td>\n",
       "      <td>4.9</td>\n",
       "    </tr>\n",
       "    <tr>\n",
       "      <th>3</th>\n",
       "      <td>kerupuk seblak 1kg</td>\n",
       "      <td>Rp11.500</td>\n",
       "      <td>zyvasnack</td>\n",
       "      <td>Kab. Purworejo</td>\n",
       "      <td>4 terjual</td>\n",
       "      <td>NaN</td>\n",
       "    </tr>\n",
       "    <tr>\n",
       "      <th>4</th>\n",
       "      <td>(250 GR) KERUPUK SEBLAK MENTAH / KERUPUK BAWANG</td>\n",
       "      <td>Rp8.500</td>\n",
       "      <td>Rejeki Makmur Jaya.</td>\n",
       "      <td>Kab. Bantul</td>\n",
       "      <td>NaN</td>\n",
       "      <td>NaN</td>\n",
       "    </tr>\n",
       "  </tbody>\n",
       "</table>\n",
       "</div>"
      ],
      "text/plain": [
       "                                         nama_produk harga_produk  \\\n",
       "0  Geli Food Seblak Ceker Tanpa Tulang Super Peda...     Rp24.000   \n",
       "1            Seblak Rafael, Seblak Coet Instan Halal     Rp25.000   \n",
       "2  Kerupuk Seblak Pedas Krupuk Pelangi Pedas Sebl...     Rp15.500   \n",
       "3                                 kerupuk seblak 1kg     Rp11.500   \n",
       "4    (250 GR) KERUPUK SEBLAK MENTAH / KERUPUK BAWANG      Rp8.500   \n",
       "\n",
       "               penjual       kota_toko banyaknya_terjual rating_produk  \n",
       "0             Lidigeli      Kab. Garut       70+ terjual           5.0  \n",
       "1    Brother Meat Shop           Depok      250+ terjual           4.9  \n",
       "2            toko bemo   Jakarta Timur      500+ terjual           4.9  \n",
       "3            zyvasnack  Kab. Purworejo         4 terjual           NaN  \n",
       "4  Rejeki Makmur Jaya.     Kab. Bantul               NaN           NaN  "
      ]
     },
     "execution_count": 237,
     "metadata": {},
     "output_type": "execute_result"
    }
   ],
   "source": [
    "# Membuat salinan DataFrame 'df' dan menyimpannya dalam variabel 'data'\n",
    "data = df.copy()\n",
    "\n",
    "# Menampilkan lima baris pertama dari DataFrame 'data' untuk melihat contoh data\n",
    "data.head()"
   ]
  },
  {
   "cell_type": "markdown",
   "metadata": {},
   "source": [
    "Dataset berisi 6 kolom, dimana kolom 'nama_produk', 'penjual', dan 'kota_toko' dapat dilakukan analisis sebagai data bertipe kategorik dan kolom 'harga_produk', 'banyaknya_terjual', dan 'rating_produk' dapat dilakukan analisis sebagai data bertipe numerik. "
   ]
  },
  {
   "cell_type": "code",
   "execution_count": 238,
   "metadata": {},
   "outputs": [
    {
     "name": "stdout",
     "output_type": "stream",
     "text": [
      "<class 'pandas.core.frame.DataFrame'>\n",
      "RangeIndex: 843 entries, 0 to 842\n",
      "Data columns (total 6 columns):\n",
      " #   Column             Non-Null Count  Dtype \n",
      "---  ------             --------------  ----- \n",
      " 0   nama_produk        843 non-null    object\n",
      " 1   harga_produk       843 non-null    object\n",
      " 2   penjual            843 non-null    object\n",
      " 3   kota_toko          843 non-null    object\n",
      " 4   banyaknya_terjual  779 non-null    object\n",
      " 5   rating_produk      760 non-null    object\n",
      "dtypes: object(6)\n",
      "memory usage: 39.6+ KB\n"
     ]
    }
   ],
   "source": [
    "# Menampilkan informasi tentang DataFrame 'data'\n",
    "data.info()"
   ]
  },
  {
   "cell_type": "markdown",
   "metadata": {},
   "source": [
    "Terlihat bahwa semua kolom bertipe data object, sehingga pada tahap data cleaning akan dilakukan pengubahan tipe data, untuk data bertipe kategorik tetap menjadi object dan untuk data bertipe numerik akan diubah menjadi integer atau float."
   ]
  },
  {
   "cell_type": "code",
   "execution_count": 239,
   "metadata": {},
   "outputs": [
    {
     "data": {
      "text/plain": [
       "nama_produk           0\n",
       "harga_produk          0\n",
       "penjual               0\n",
       "kota_toko             0\n",
       "banyaknya_terjual    64\n",
       "rating_produk        83\n",
       "dtype: int64"
      ]
     },
     "execution_count": 239,
     "metadata": {},
     "output_type": "execute_result"
    }
   ],
   "source": [
    "# Menampilkan jumlah nilai null di setiap kolom DataFrame\n",
    "data.isnull().sum()"
   ]
  },
  {
   "cell_type": "markdown",
   "metadata": {},
   "source": [
    "Terlihat bahwa kolom 'penjual', 'kota_toko', 'banyaknya_terjual', dan 'rating_produk' terdapat nilai null yang jumlahnya berbeda-beda. Sehingga pada tahap data cleaning dapat dilakukan perubahan nilai null yang sesuaikan dengan tipe data kolomnya."
   ]
  },
  {
   "cell_type": "markdown",
   "metadata": {},
   "source": [
    "### Data Cleaning"
   ]
  },
  {
   "cell_type": "code",
   "execution_count": 240,
   "metadata": {},
   "outputs": [
    {
     "data": {
      "text/html": [
       "<div>\n",
       "<style scoped>\n",
       "    .dataframe tbody tr th:only-of-type {\n",
       "        vertical-align: middle;\n",
       "    }\n",
       "\n",
       "    .dataframe tbody tr th {\n",
       "        vertical-align: top;\n",
       "    }\n",
       "\n",
       "    .dataframe thead th {\n",
       "        text-align: right;\n",
       "    }\n",
       "</style>\n",
       "<table border=\"1\" class=\"dataframe\">\n",
       "  <thead>\n",
       "    <tr style=\"text-align: right;\">\n",
       "      <th></th>\n",
       "      <th>nama_produk</th>\n",
       "      <th>harga_produk</th>\n",
       "      <th>penjual</th>\n",
       "      <th>kota_toko</th>\n",
       "      <th>banyaknya_terjual</th>\n",
       "      <th>rating_produk</th>\n",
       "    </tr>\n",
       "  </thead>\n",
       "  <tbody>\n",
       "    <tr>\n",
       "      <th>0</th>\n",
       "      <td>Geli Food Seblak Ceker Tanpa Tulang Super Peda...</td>\n",
       "      <td>24000</td>\n",
       "      <td>Lidigeli</td>\n",
       "      <td>Kab. Garut</td>\n",
       "      <td>70</td>\n",
       "      <td>5.0</td>\n",
       "    </tr>\n",
       "    <tr>\n",
       "      <th>1</th>\n",
       "      <td>Seblak Rafael, Seblak Coet Instan Halal</td>\n",
       "      <td>25000</td>\n",
       "      <td>Brother Meat Shop</td>\n",
       "      <td>Depok</td>\n",
       "      <td>250</td>\n",
       "      <td>4.9</td>\n",
       "    </tr>\n",
       "    <tr>\n",
       "      <th>2</th>\n",
       "      <td>Kerupuk Seblak Pedas Krupuk Pelangi Pedas Sebl...</td>\n",
       "      <td>15500</td>\n",
       "      <td>toko bemo</td>\n",
       "      <td>Jakarta Timur</td>\n",
       "      <td>500</td>\n",
       "      <td>4.9</td>\n",
       "    </tr>\n",
       "    <tr>\n",
       "      <th>3</th>\n",
       "      <td>kerupuk seblak 1kg</td>\n",
       "      <td>11500</td>\n",
       "      <td>zyvasnack</td>\n",
       "      <td>Kab. Purworejo</td>\n",
       "      <td>4</td>\n",
       "      <td>0.0</td>\n",
       "    </tr>\n",
       "    <tr>\n",
       "      <th>4</th>\n",
       "      <td>(250 GR) KERUPUK SEBLAK MENTAH / KERUPUK BAWANG</td>\n",
       "      <td>8500</td>\n",
       "      <td>Rejeki Makmur Jaya.</td>\n",
       "      <td>Kab. Bantul</td>\n",
       "      <td>0</td>\n",
       "      <td>0.0</td>\n",
       "    </tr>\n",
       "  </tbody>\n",
       "</table>\n",
       "</div>"
      ],
      "text/plain": [
       "                                         nama_produk  harga_produk  \\\n",
       "0  Geli Food Seblak Ceker Tanpa Tulang Super Peda...         24000   \n",
       "1            Seblak Rafael, Seblak Coet Instan Halal         25000   \n",
       "2  Kerupuk Seblak Pedas Krupuk Pelangi Pedas Sebl...         15500   \n",
       "3                                 kerupuk seblak 1kg         11500   \n",
       "4    (250 GR) KERUPUK SEBLAK MENTAH / KERUPUK BAWANG          8500   \n",
       "\n",
       "               penjual       kota_toko  banyaknya_terjual  rating_produk  \n",
       "0             Lidigeli      Kab. Garut                 70            5.0  \n",
       "1    Brother Meat Shop           Depok                250            4.9  \n",
       "2            toko bemo   Jakarta Timur                500            4.9  \n",
       "3            zyvasnack  Kab. Purworejo                  4            0.0  \n",
       "4  Rejeki Makmur Jaya.     Kab. Bantul                  0            0.0  "
      ]
     },
     "execution_count": 240,
     "metadata": {},
     "output_type": "execute_result"
    }
   ],
   "source": [
    "# Dictionary yang mengelompokan tipe data kolom (integer atau float)\n",
    "num_col = {'integer':['harga_produk', 'banyaknya_terjual'], 'float':['rating_produk']}\n",
    "\n",
    "# Iterasi berdasarkan tipe data dalam num_col (integer atau float)\n",
    "for type in num_col.keys():\n",
    "    # Pengecekan tipe data, apakah integer atau float\n",
    "    if type == 'integer':\n",
    "        # Iterasi untuk setiap kolom dengan tipe data integer\n",
    "        for col in num_col[type]:\n",
    "            # Menghilangkan karakter 'Rp', '.', '+', ' terjual', dan mengganti 'rb' dengan '000'\n",
    "            data[col] = data[col].str.replace('Rp', '')\n",
    "            data[col] = data[col].str.replace('.', '')\n",
    "            data[col] = data[col].str.replace('Rp', '')\n",
    "            data[col] = data[col].str.replace('+', '')\n",
    "            data[col] = data[col].str.replace(' terjual', '')\n",
    "            data[col] = data[col].str.replace('rb', '000')\n",
    "            # Mengganti nilai NaN dengan '0'\n",
    "            data[col] = data[col].fillna('0')\n",
    "            # Mengubah tipe data menjadi int64\n",
    "            data[col] = data[col].astype('int64')\n",
    "    else:\n",
    "        # Iterasi untuk setiap kolom dengan tipe data float\n",
    "        for col in num_col[type]:\n",
    "            # Mengganti nilai NaN dengan '0'\n",
    "            data[col] = data[col].fillna('0')\n",
    "            # Mengubah tipe data menjadi float\n",
    "            data[col] = data[col].astype('float')\n",
    "# Menghapus baris yang memiliki nilai NaN\n",
    "data.dropna(inplace=True)\n",
    "# Menampilkan lima baris pertama dari DataFrame hasil transformasi\n",
    "data.head()"
   ]
  },
  {
   "cell_type": "markdown",
   "metadata": {},
   "source": [
    "## Business Understanding/Problem Statement\n",
    "Tahap ini bertujuan untuk mendapatkan pemahaman tentang bisnis, kebutuhan, tujuan, metriknya."
   ]
  },
  {
   "cell_type": "markdown",
   "metadata": {},
   "source": [
    "### Defining Problem Statement\n",
    "1. Specific : Melakukan analisis untuk mengetahui prospek penjualan produk seblak dengan melihat tingkat customer loyalty\n",
    "2. Measurable : Tingkat kepuasan konsumen terhadap produk lebih dari 4.7\n",
    "3. Achievable : Mengetahui harga produk yang sesuai yang menarik minat konsumen\n",
    "4. Relevant : Meningkatnya customer loyalty akan meningkatkan keuntungan penjualan\n",
    "5. Time-bound : Proses analisis dilakukan selama sebulan menggunakan data yang diambil per hari\n",
    "\n",
    "<b>Menganalisis prospek penjualan produk seblak dengan mengevaluasi tingkat customer loyalty dengan melihat tingkat kepuasan konsumen terhadap produk dengan fokus pada harga produk yang menarik minat konsumen dan memperoleh keuntungan yang lebih tinggi</b>"
   ]
  },
  {
   "cell_type": "markdown",
   "metadata": {},
   "source": [
    "## Analysis"
   ]
  },
  {
   "cell_type": "markdown",
   "metadata": {},
   "source": [
    "### Central Tendency"
   ]
  },
  {
   "cell_type": "markdown",
   "metadata": {},
   "source": [
    "Lakukan analisis central tendecy dan kenormalan data dari kolom harga, banyak produk terjual, dan rating untuk memperoleh insight. "
   ]
  },
  {
   "cell_type": "code",
   "execution_count": 241,
   "metadata": {},
   "outputs": [
    {
     "data": {
      "text/html": [
       "<div>\n",
       "<style scoped>\n",
       "    .dataframe tbody tr th:only-of-type {\n",
       "        vertical-align: middle;\n",
       "    }\n",
       "\n",
       "    .dataframe tbody tr th {\n",
       "        vertical-align: top;\n",
       "    }\n",
       "\n",
       "    .dataframe thead th {\n",
       "        text-align: right;\n",
       "    }\n",
       "</style>\n",
       "<table border=\"1\" class=\"dataframe\">\n",
       "  <thead>\n",
       "    <tr style=\"text-align: right;\">\n",
       "      <th></th>\n",
       "      <th>Mean</th>\n",
       "      <th>Median</th>\n",
       "      <th>Modus</th>\n",
       "      <th>Standard Deviation</th>\n",
       "      <th>Kurtosis</th>\n",
       "    </tr>\n",
       "  </thead>\n",
       "  <tbody>\n",
       "    <tr>\n",
       "      <th>harga_produk</th>\n",
       "      <td>27593.106762</td>\n",
       "      <td>15000.0</td>\n",
       "      <td>15000.0</td>\n",
       "      <td>152475.368237</td>\n",
       "      <td>797.740972</td>\n",
       "    </tr>\n",
       "    <tr>\n",
       "      <th>banyaknya_terjual</th>\n",
       "      <td>362.550415</td>\n",
       "      <td>80.0</td>\n",
       "      <td>100.0</td>\n",
       "      <td>1090.247619</td>\n",
       "      <td>48.051263</td>\n",
       "    </tr>\n",
       "    <tr>\n",
       "      <th>rating_produk</th>\n",
       "      <td>4.392171</td>\n",
       "      <td>4.9</td>\n",
       "      <td>5.0</td>\n",
       "      <td>1.460789</td>\n",
       "      <td>5.119503</td>\n",
       "    </tr>\n",
       "  </tbody>\n",
       "</table>\n",
       "</div>"
      ],
      "text/plain": [
       "                           Mean   Median    Modus  Standard Deviation  \\\n",
       "harga_produk       27593.106762  15000.0  15000.0       152475.368237   \n",
       "banyaknya_terjual    362.550415     80.0    100.0         1090.247619   \n",
       "rating_produk          4.392171      4.9      5.0            1.460789   \n",
       "\n",
       "                     Kurtosis  \n",
       "harga_produk       797.740972  \n",
       "banyaknya_terjual   48.051263  \n",
       "rating_produk        5.119503  "
      ]
     },
     "execution_count": 241,
     "metadata": {},
     "output_type": "execute_result"
    }
   ],
   "source": [
    "# Menghitung mean (rata-rata), median, modus, standard deviation, dan kurtosis\n",
    "mean = pd.Series(data[['harga_produk','banyaknya_terjual','rating_produk']].mean(), name='Mean')\n",
    "median = pd.Series(data[['harga_produk','banyaknya_terjual','rating_produk']].median(), name='Median')\n",
    "modus = pd.Series(data[['harga_produk','banyaknya_terjual','rating_produk']].mode().loc[0], name='Modus')\n",
    "std = pd.Series(data[['harga_produk','banyaknya_terjual','rating_produk']].std(), name='Standard Deviation')\n",
    "kurtosis = pd.Series(data[['harga_produk','banyaknya_terjual','rating_produk']].kurt(), name='Kurtosis')\n",
    "\n",
    "# Menggabungkan hasil perhitungan menjadi satu DataFrame\n",
    "summary= pd.concat([mean, median, modus, std, kurtosis], axis=1)\n",
    "summary"
   ]
  },
  {
   "cell_type": "markdown",
   "metadata": {},
   "source": [
    "- Dari analisis data 'harga_produk', terlihat bahwa nilai rata-ratanya (mean) adalah 27593.106762 (Rp. 27.593,10), jauh lebih tinggi dibandingkan dengan nilai median sebesar 15000.00 (Rp. 15.000,00). Selain itu, terlihat bahwa modusnya adalah 15000.00 (Rp. 15.000,00), yang berarti lebih kecil daripada mean dan sama dengan median. Perbedaan ini menunjukkan adanya kecenderungan data yang condong ke kiri atau memiliki positive skewness.Terlihat juga nilai standard deviation yang cukup besar yakni 152475.368237 dan nilai kurtosis sebesar 797.740972 yang menandakan bahwa sebaran data bertipe leptokurtic\n",
    "- Dari analisis data 'banyaknya_terjual', terlihat bahwa nilai rata-ratanya (mean) adalah 362.550415, jauh lebih tinggi dibandingkan dengan nilai median sebesar 80.0. Selain itu, terlihat bahwa modusnya adalah 100.0, yang berarti lebih kecil daripada mean namun lebih besar dari median. Perbedaan ini menunjukkan adanya kecenderungan data yang condong ke kiri atau memiliki positive skewness. rata-rata ke arah yang lebih besar. Terlihat juga nilai standard deviation yakni 1090.247619 dan nilai kurtosis sebesar 48.051263 yang menandakan bahwa sebaran data bertipe leptokurtic\n",
    "- Dari analisis data 'rating_produk', terlihat bahwa nilai rata-ratanya (mean) adalah 4.392171, dimana nilai tersebut lebih rendah dibandingkan dengan nilai median sebesar 4.9. Selain itu, terlihat bahwa modusnya adalah 5.0, yang berarti lebih besar daripada mean dan median. Perbedaan ini menunjukkan adanya kecenderungan data yang condong ke kanan atau memiliki negative skewness. Terlihat juga nilai standard deviation yakni 1.460789 dan nilai kurtosis sebesar 5.119503 yang menandakan bahwa sebaran data bertipe leptokurtic"
   ]
  },
  {
   "cell_type": "code",
   "execution_count": 242,
   "metadata": {},
   "outputs": [
    {
     "data": {
      "image/png": "[encoded data removed]",
      "text/plain": [
       "<Figure size 1000x400 with 2 Axes>"
      ]
     },
     "metadata": {},
     "output_type": "display_data"
    },
    {
     "data": {
      "image/png": "[encoded data removed]",
      "text/plain": [
       "<Figure size 1000x400 with 2 Axes>"
      ]
     },
     "metadata": {},
     "output_type": "display_data"
    },
    {
     "data": {
      "image/png": "[encoded data removed]",
      "text/plain": [
       "<Figure size 1000x400 with 2 Axes>"
      ]
     },
     "metadata": {},
     "output_type": "display_data"
    }
   ],
   "source": [
    "# Plot sebaran data 'harga_produk'\n",
    "fig, ax = plt.subplots(ncols=2, figsize=(10, 4))\n",
    "data['harga_produk'].plot(kind='hist', bins=20, ax=ax[0])\n",
    "data['harga_produk'].plot(kind='box', ax=ax[1])\n",
    "plt.show()\n",
    "\n",
    "# Plot sebaran data 'banyaknya_terjual'\n",
    "fig, ax = plt.subplots(ncols=2, figsize=(10, 4))\n",
    "data['banyaknya_terjual'].plot(kind='hist', bins=20, ax=ax[0])\n",
    "data['banyaknya_terjual'].plot(kind='box', ax=ax[1])\n",
    "plt.show()\n",
    "\n",
    "# Plot sebaran data 'rating_produk'\n",
    "fig, ax = plt.subplots(ncols=2, figsize=(10, 4))\n",
    "data['rating_produk'].plot(kind='hist', bins=20, ax=ax[0])\n",
    "data['rating_produk'].plot(kind='box', ax=ax[1])\n",
    "plt.show()"
   ]
  },
  {
   "cell_type": "markdown",
   "metadata": {},
   "source": [
    "pada hasil plot terlihat bahwa di ketiga kolom memiliki outlier dan untuk kolom 'harga_produk' dan 'banyaknya_terjual' memiliki sebaran data yang sama yakni positive skew sedangkan kolom 'rating_produk' memiliki sebaran data negative skew"
   ]
  },
  {
   "cell_type": "markdown",
   "metadata": {},
   "source": [
    "### Confidence Interval"
   ]
  },
  {
   "cell_type": "markdown",
   "metadata": {},
   "source": [
    "Hitung potensi pendapatan maksimum dan minimum, jika data dianggap terdistribusi normal dan informasi produk terjual merupakan penjualan produk perbulan dengan confidence level 95%"
   ]
  },
  {
   "cell_type": "code",
   "execution_count": 244,
   "metadata": {},
   "outputs": [
    {
     "name": "stdout",
     "output_type": "stream",
     "text": [
      "Lower Limit: 4675529.107129768\n",
      "Upper Limit: 7611076.271280671\n"
     ]
    }
   ],
   "source": [
    "# Menghitung standar deviasi dari 'harga_produk'\n",
    "data['pendapatan'] =  data['harga_produk'] * data['banyaknya_terjual']\n",
    "std = data['pendapatan'].std()\n",
    "\n",
    "# Menghitung jumlah data\n",
    "n = len(data)\n",
    "\n",
    "# Menggunakan distribusi normal untuk menghitung interval kepercayaan 95%\n",
    "low, up = stats.norm.interval(0.95, loc= data['pendapatan'].mean(), scale=std/np.sqrt(n))\n",
    "print('Lower Limit:',low)\n",
    "print('Upper Limit:',up)"
   ]
  },
  {
   "cell_type": "markdown",
   "metadata": {},
   "source": [
    "Potensi pendapatan terkecil/minimum yang didapat dari penjualan seblak perbulan adalah 4675529.107129768 atau Rp. 4,675,529.10 dan potensi pendapatan terbesar/maksimum yang didapat dari penjualan seblak perbulan adalah 7611076.271280671 atau sekitar Rp. 7,611,076.27."
   ]
  },
  {
   "cell_type": "markdown",
   "metadata": {},
   "source": [
    "### Hypotesis Testing"
   ]
  },
  {
   "cell_type": "markdown",
   "metadata": {},
   "source": [
    "Apakah harga barang/jual di daerah jabodetabek berbeda dengan di luar daerah jabodetabek?<br>\n",
    "\n",
    "Berikut adalah hipotesisnya<br>\n",
    "<b>H0: Harga barang di jabodetabek == non jabodetabek</b><br>\n",
    "<b>H1: Harga barang di jabodetabek != non jabodetabek</b><br>\n",
    "\n",
    "Jenis hipotesis yang akan digunakan adalah two sample independent test karena kedua variable tidak saling mempengaruhi dan berbentuk numerik"
   ]
  },
  {
   "cell_type": "code",
   "execution_count": 250,
   "metadata": {},
   "outputs": [
    {
     "name": "stdout",
     "output_type": "stream",
     "text": [
      "Rata-rata harga barang di jabodetabek: 31149.197802197803\n",
      "Rata-rata harga barang di luar jabodetabek: 23422.94845360825\n",
      "P-value: 0.4637076389534308\n"
     ]
    }
   ],
   "source": [
    "# Memisahkan data menjadi dua kelompok berdasarkan wilayah Jabodetabek atau non-Jabodetabek\n",
    "jabodetabek = data[data['kota_toko'].str.contains('Jakarta|Bogor|Depok|Tangerang|Bekasi')]\n",
    "non_jabodetabek = data[~data[\"kota_toko\"].str.contains('Jakarta|Bogor|Depok|Tangerang|Bekasi')]\n",
    "\n",
    "print (f'Rata-rata harga barang di jabodetabek: {jabodetabek[\"harga_produk\"].mean()}')\n",
    "print (f'Rata-rata harga barang di luar jabodetabek: {non_jabodetabek[\"harga_produk\"].mean()}')\n",
    "\n",
    "# Melakukan uji independent t-test untuk membandingkan rata-rata harga_produk antara kedua kelompok\n",
    "t_stat, p_val = stats.ttest_ind(jabodetabek['harga_produk'],non_jabodetabek['harga_produk'])\n",
    "\n",
    "print('P-value:',p_val)"
   ]
  },
  {
   "cell_type": "markdown",
   "metadata": {},
   "source": [
    "Rata-rata harga barang di jabodetabek lebih besar dibandingkan rata-rata harga barang di luar daerah jabodetabek. Namum berdasarkan nilai p-value = 0.46 yang dimana lebih besar dibanding critical value = 0.05 maka hasil hipostesisnya adalah terima H0 yang berarti tidak ada perbedaan harga barang di daerah jabodetabek maupun di luar jabodetabek."
   ]
  },
  {
   "cell_type": "markdown",
   "metadata": {},
   "source": [
    "Apakah konsumen lebih menyukai produk dengan harga yang murah?\n",
    "\n",
    "Berikut adalah hipotesisnya<br>\n",
    "<b>H0: Tidak ada hubungan harga produk dengan kategori kepuasan konsumen</b><br>\n",
    "<b>H1: Ada hubungan harga produk dengan kategori kepuasan konsumen</b><br>\n",
    "\n",
    "Jenis hipotesis yang akan digunakan adalah ANOVA test karena hipotesis ini bertujuan untuk membandingkan hubungan kelompok variabel dengan variabel lainnya. Diasumsikan bahwa data memenuhi syarat untuk penggunaan metode ANOVA seperti syarat independent, normality, dan homogenity."
   ]
  },
  {
   "cell_type": "code",
   "execution_count": 290,
   "metadata": {},
   "outputs": [
    {
     "name": "stdout",
     "output_type": "stream",
     "text": [
      "Rata-rata harga dengan rating produk sangat puas: 24989.71\n",
      "Rata-rata harga dengan rating produk puas: 22845.19\n",
      "Rata-rata harga dengan rating produk biasa: 18355.84\n",
      "Rata-rata harga dengan rating produk tidak_puas: 75988.77\n"
     ]
    }
   ],
   "source": [
    "# Menggunakan kondisi untuk memisahkan data berdasarkan rating_produk ke dalam kelompok kepuasan yang berbeda\n",
    "sangat_puas = data['harga_produk'][(data['rating_produk']== 5.0)]\n",
    "puas = data['harga_produk'][(data['rating_produk']== 4.9)]\n",
    "biasa = data['harga_produk'][(data['rating_produk']== 4.8) | (data['rating_produk'] == 4.7)|\n",
    "                            (data['rating_produk']== 4.6) | (data['rating_produk'] == 4.5)|\n",
    "                            (data['rating_produk']== 4.4) | (data['rating_produk'] == 4.3)|\n",
    "                            (data['rating_produk']== 4.0)]\n",
    "tidak_puas = data['harga_produk'][(data['rating_produk'] == 3.) |(data['rating_produk'] == 0.0)]\n",
    "\n",
    "# Menghitung rata-rata harga_produk untuk setiap kelompok kepuasan dan mencetak hasilnya\n",
    "print(f'Rata-rata harga dengan rating produk sangat puas: {sangat_puas.mean():.2f}')\n",
    "print(f'Rata-rata harga dengan rating produk puas: {puas.mean():.2f}')\n",
    "print(f'Rata-rata harga dengan rating produk biasa: {biasa.mean():.2f}')\n",
    "print(f'Rata-rata harga dengan rating produk tidak_puas: {tidak_puas.mean():.2f}')"
   ]
  },
  {
   "cell_type": "code",
   "execution_count": 291,
   "metadata": {},
   "outputs": [
    {
     "name": "stdout",
     "output_type": "stream",
     "text": [
      "P-value: 0.021530322791366973\n"
     ]
    }
   ],
   "source": [
    "# Membandingkan rata-rata antara kelima kelompok\n",
    "res = stats.f_oneway(sangat_puas,puas, biasa, tidak_puas)\n",
    "\n",
    "print('P-value:',res.pvalue)"
   ]
  },
  {
   "cell_type": "markdown",
   "metadata": {},
   "source": [
    "Nilai p-value 0.021530322791366973 lebih kecil dari 0.05 sehingga hasil hipotesis adalah tolak H0. Jadi dapat disimpulkan ada hubungan harga produk dengan kategori kepuasan konsumen."
   ]
  },
  {
   "cell_type": "markdown",
   "metadata": {},
   "source": [
    "## Kesimpulan\n",
    "Dari proses analisis yang telah dilakukan, produk seblak memiliki prospek atau peluang yang baik. Hal ini dapat dilihat dari potensi pendapatan yang cukup besar, peluang yang sama untuk penjual produk seblak dari luar jabodetabek karena tidak ada perbedaan harga yang signifikan, dan modus atau rating terbanyak dari penjualan produk seblak adalah 5.0 (rating terbaik). Sebagai strategi penjualan produk seblak kedepan dapat dipertimbangkan untuk penentuan harga yang sesuai agar memenuhi kepuasan konsumen.\n"
   ]
  }
 ],
 "metadata": {
  "kernelspec": {
   "display_name": "base",
   "language": "python",
   "name": "python3"
  },
  "language_info": {
   "codemirror_mode": {
    "name": "ipython",
    "version": 3
   },
   "file_extension": ".py",
   "mimetype": "text/x-python",
   "name": "python",
   "nbconvert_exporter": "python",
   "pygments_lexer": "ipython3",
   "version": "3.9.13"
  }
 },
 "nbformat": 4,
 "nbformat_minor": 2
}
